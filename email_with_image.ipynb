{
  "nbformat": 4,
  "nbformat_minor": 0,
  "metadata": {
    "colab": {
      "name": "email_with_image.ipynb",
      "provenance": [],
      "collapsed_sections": [
        "zxlgrTIPpxaC"
      ],
      "toc_visible": true
    },
    "kernelspec": {
      "name": "python3",
      "display_name": "Python 3"
    }
  },
  "cells": [
    {
      "cell_type": "markdown",
      "metadata": {
        "id": "ZAZRY51fCLQi"
      },
      "source": [
        "#Install\n"
      ]
    },
    {
      "cell_type": "code",
      "metadata": {
        "id": "fponNYDgCOzh",
        "outputId": "8a13c9b7-95f7-4ec2-c3fb-32f916e43a02",
        "colab": {
          "base_uri": "https://localhost:8080/"
        }
      },
      "source": [
        "! pip install --upgrade gspread"
      ],
      "execution_count": 1,
      "outputs": [
        {
          "output_type": "stream",
          "text": [
            "Collecting gspread\n",
            "  Downloading https://files.pythonhosted.org/packages/9c/ba/bc8de4f5077bd34bc873bdd67a89cb29c4f181abba8a836d2c6a0a142365/gspread-3.6.0-py3-none-any.whl\n",
            "Requirement already satisfied, skipping upgrade: google-auth-oauthlib>=0.4.1 in /usr/local/lib/python3.6/dist-packages (from gspread) (0.4.1)\n",
            "Requirement already satisfied, skipping upgrade: requests>=2.2.1 in /usr/local/lib/python3.6/dist-packages (from gspread) (2.23.0)\n",
            "Requirement already satisfied, skipping upgrade: google-auth>=1.12.0 in /usr/local/lib/python3.6/dist-packages (from gspread) (1.17.2)\n",
            "Requirement already satisfied, skipping upgrade: requests-oauthlib>=0.7.0 in /usr/local/lib/python3.6/dist-packages (from google-auth-oauthlib>=0.4.1->gspread) (1.3.0)\n",
            "Requirement already satisfied, skipping upgrade: urllib3!=1.25.0,!=1.25.1,<1.26,>=1.21.1 in /usr/local/lib/python3.6/dist-packages (from requests>=2.2.1->gspread) (1.24.3)\n",
            "Requirement already satisfied, skipping upgrade: chardet<4,>=3.0.2 in /usr/local/lib/python3.6/dist-packages (from requests>=2.2.1->gspread) (3.0.4)\n",
            "Requirement already satisfied, skipping upgrade: certifi>=2017.4.17 in /usr/local/lib/python3.6/dist-packages (from requests>=2.2.1->gspread) (2020.6.20)\n",
            "Requirement already satisfied, skipping upgrade: idna<3,>=2.5 in /usr/local/lib/python3.6/dist-packages (from requests>=2.2.1->gspread) (2.10)\n",
            "Requirement already satisfied, skipping upgrade: pyasn1-modules>=0.2.1 in /usr/local/lib/python3.6/dist-packages (from google-auth>=1.12.0->gspread) (0.2.8)\n",
            "Requirement already satisfied, skipping upgrade: rsa<5,>=3.1.4; python_version >= \"3\" in /usr/local/lib/python3.6/dist-packages (from google-auth>=1.12.0->gspread) (4.6)\n",
            "Requirement already satisfied, skipping upgrade: six>=1.9.0 in /usr/local/lib/python3.6/dist-packages (from google-auth>=1.12.0->gspread) (1.15.0)\n",
            "Requirement already satisfied, skipping upgrade: cachetools<5.0,>=2.0.0 in /usr/local/lib/python3.6/dist-packages (from google-auth>=1.12.0->gspread) (4.1.1)\n",
            "Requirement already satisfied, skipping upgrade: setuptools>=40.3.0 in /usr/local/lib/python3.6/dist-packages (from google-auth>=1.12.0->gspread) (50.3.0)\n",
            "Requirement already satisfied, skipping upgrade: oauthlib>=3.0.0 in /usr/local/lib/python3.6/dist-packages (from requests-oauthlib>=0.7.0->google-auth-oauthlib>=0.4.1->gspread) (3.1.0)\n",
            "Requirement already satisfied, skipping upgrade: pyasn1<0.5.0,>=0.4.6 in /usr/local/lib/python3.6/dist-packages (from pyasn1-modules>=0.2.1->google-auth>=1.12.0->gspread) (0.4.8)\n",
            "Installing collected packages: gspread\n",
            "  Found existing installation: gspread 3.0.1\n",
            "    Uninstalling gspread-3.0.1:\n",
            "      Successfully uninstalled gspread-3.0.1\n",
            "Successfully installed gspread-3.6.0\n"
          ],
          "name": "stdout"
        }
      ]
    },
    {
      "cell_type": "code",
      "metadata": {
        "id": "Y77qNjGhBaW8",
        "outputId": "ac8977ce-9c95-468c-8d58-98e3564a7c19",
        "colab": {
          "base_uri": "https://localhost:8080/"
        }
      },
      "source": [
        "! pip install --upgrade sendgrid"
      ],
      "execution_count": 2,
      "outputs": [
        {
          "output_type": "stream",
          "text": [
            "Collecting sendgrid\n",
            "\u001b[?25l  Downloading https://files.pythonhosted.org/packages/b4/c6/d1ff0214c758d49bbc4b3761dae6d5653c3aea801ba49a9c94cc1fbf7980/sendgrid-6.4.7-py3-none-any.whl (73kB)\n",
            "\r\u001b[K     |████▌                           | 10kB 17.6MB/s eta 0:00:01\r\u001b[K     |█████████                       | 20kB 1.7MB/s eta 0:00:01\r\u001b[K     |█████████████▍                  | 30kB 2.2MB/s eta 0:00:01\r\u001b[K     |█████████████████▉              | 40kB 2.5MB/s eta 0:00:01\r\u001b[K     |██████████████████████▎         | 51kB 2.0MB/s eta 0:00:01\r\u001b[K     |██████████████████████████▊     | 61kB 2.2MB/s eta 0:00:01\r\u001b[K     |███████████████████████████████▏| 71kB 2.5MB/s eta 0:00:01\r\u001b[K     |████████████████████████████████| 81kB 2.1MB/s \n",
            "\u001b[?25hCollecting python-http-client>=3.2.1\n",
            "  Downloading https://files.pythonhosted.org/packages/d9/93/fffa7a16e735ae8b946a58e2521e71180803440edc2a0de0d2e9d4a93b84/python_http_client-3.3.1.tar.gz\n",
            "Collecting starkbank-ecdsa>=1.0.0\n",
            "  Downloading https://files.pythonhosted.org/packages/4c/48/29de0f3876d8f89906372da49f132e5c5e46e2fa601a198a9eca6402f646/starkbank-ecdsa-1.1.0.tar.gz\n",
            "Building wheels for collected packages: python-http-client, starkbank-ecdsa\n",
            "  Building wheel for python-http-client (setup.py) ... \u001b[?25l\u001b[?25hdone\n",
            "  Created wheel for python-http-client: filename=python_http_client-3.3.1-cp36-none-any.whl size=7523 sha256=f839825c077a1a78de28ed1a62435c097b0776355f59d40c3cb0282a66fabb8a\n",
            "  Stored in directory: /root/.cache/pip/wheels/14/67/9b/abeb3c15c0d92ad24c3a17474cb833d79a92b61f607320aa05\n",
            "  Building wheel for starkbank-ecdsa (setup.py) ... \u001b[?25l\u001b[?25hdone\n",
            "  Created wheel for starkbank-ecdsa: filename=starkbank_ecdsa-1.1.0-cp36-none-any.whl size=13646 sha256=f5ab1e50ccd3bec10df9d0b86469b94e9790f1608940d7f33a4d4d354429012f\n",
            "  Stored in directory: /root/.cache/pip/wheels/15/a8/1b/b0d920b8182516ed69179b3ed82e46ce90f4de20d0ccb4b02d\n",
            "Successfully built python-http-client starkbank-ecdsa\n",
            "Installing collected packages: python-http-client, starkbank-ecdsa, sendgrid\n",
            "Successfully installed python-http-client-3.3.1 sendgrid-6.4.7 starkbank-ecdsa-1.1.0\n"
          ],
          "name": "stdout"
        }
      ]
    },
    {
      "cell_type": "code",
      "metadata": {
        "id": "6HKUZ0ivB1i7",
        "outputId": "86d9dee1-73aa-4289-ecdf-e29499648a8e",
        "colab": {
          "base_uri": "https://localhost:8080/"
        }
      },
      "source": [
        "! pip install --upgrade premailer"
      ],
      "execution_count": 3,
      "outputs": [
        {
          "output_type": "stream",
          "text": [
            "Collecting premailer\n",
            "  Downloading https://files.pythonhosted.org/packages/cd/ce/74bbdf0eee4265fd3f161d4276b36c9238b802191c2053c8e68578bda4e6/premailer-3.7.0-py2.py3-none-any.whl\n",
            "Collecting cssutils\n",
            "\u001b[?25l  Downloading https://files.pythonhosted.org/packages/6b/15/a9fb9010f58d1c55dd0b7779db2334feb9a572d407024f39a60f44293861/cssutils-1.0.2-py3-none-any.whl (406kB)\n",
            "\u001b[K     |████████████████████████████████| 409kB 3.9MB/s \n",
            "\u001b[?25hRequirement already satisfied, skipping upgrade: cachetools in /usr/local/lib/python3.6/dist-packages (from premailer) (4.1.1)\n",
            "Requirement already satisfied, skipping upgrade: requests in /usr/local/lib/python3.6/dist-packages (from premailer) (2.23.0)\n",
            "Collecting cssselect\n",
            "  Downloading https://files.pythonhosted.org/packages/3b/d4/3b5c17f00cce85b9a1e6f91096e1cc8e8ede2e1be8e96b87ce1ed09e92c5/cssselect-1.1.0-py2.py3-none-any.whl\n",
            "Requirement already satisfied, skipping upgrade: lxml in /usr/local/lib/python3.6/dist-packages (from premailer) (4.2.6)\n",
            "Requirement already satisfied, skipping upgrade: chardet<4,>=3.0.2 in /usr/local/lib/python3.6/dist-packages (from requests->premailer) (3.0.4)\n",
            "Requirement already satisfied, skipping upgrade: certifi>=2017.4.17 in /usr/local/lib/python3.6/dist-packages (from requests->premailer) (2020.6.20)\n",
            "Requirement already satisfied, skipping upgrade: idna<3,>=2.5 in /usr/local/lib/python3.6/dist-packages (from requests->premailer) (2.10)\n",
            "Requirement already satisfied, skipping upgrade: urllib3!=1.25.0,!=1.25.1,<1.26,>=1.21.1 in /usr/local/lib/python3.6/dist-packages (from requests->premailer) (1.24.3)\n",
            "Installing collected packages: cssutils, cssselect, premailer\n",
            "Successfully installed cssselect-1.1.0 cssutils-1.0.2 premailer-3.7.0\n"
          ],
          "name": "stdout"
        }
      ]
    },
    {
      "cell_type": "markdown",
      "metadata": {
        "id": "Lr0EDcUoVonm"
      },
      "source": [
        "#ENV\n",
        "Two variables SEND_GRID and KEY_IMGBB are required, you can do this at:\n",
        "\n",
        "- https://sendgrid.com/\n",
        "- https://imgbb.com/"
      ]
    },
    {
      "cell_type": "code",
      "metadata": {
        "id": "rHFUzCsnVoH0"
      },
      "source": [
        "from env import * # !Just Bruno Nascimento"
      ],
      "execution_count": 4,
      "outputs": []
    },
    {
      "cell_type": "markdown",
      "metadata": {
        "id": "09liAY9NBrMb"
      },
      "source": [
        "#Imports"
      ]
    },
    {
      "cell_type": "code",
      "metadata": {
        "id": "1MjR0t-6Bk7A"
      },
      "source": [
        "from google.colab import auth\n",
        "import gspread\n",
        "from oauth2client.client import GoogleCredentials\n",
        "import pandas as pd\n",
        "import random\n",
        "import string\n",
        "from PIL import ImageFont, ImageDraw, Image\n",
        "from google.colab.patches import cv2_imshow\n",
        "import numpy as np\n",
        "import cv2\n",
        "import base64\n",
        "import requests\n",
        "import json\n",
        "from datetime import datetime\n",
        "import os\n",
        "from sendgrid import SendGridAPIClient\n",
        "from sendgrid.helpers.mail import Mail\n",
        "from premailer import transform"
      ],
      "execution_count": 5,
      "outputs": []
    },
    {
      "cell_type": "markdown",
      "metadata": {
        "id": "aN2C7STxBvw-"
      },
      "source": [
        "#Google Credentials\n"
      ]
    },
    {
      "cell_type": "code",
      "metadata": {
        "id": "9tP7sYylBzwB"
      },
      "source": [
        "auth.authenticate_user()\n",
        "gc = gspread.authorize(GoogleCredentials.get_application_default())"
      ],
      "execution_count": 6,
      "outputs": []
    },
    {
      "cell_type": "markdown",
      "metadata": {
        "id": "2KWc-03DBXm_"
      },
      "source": [
        "#Variables"
      ]
    },
    {
      "cell_type": "code",
      "metadata": {
        "id": "7dDIU9eo7QDC"
      },
      "source": [
        "drive_directory = '/content/drive/My Drive/action_email_with_image/images/'"
      ],
      "execution_count": 7,
      "outputs": []
    },
    {
      "cell_type": "markdown",
      "metadata": {
        "id": "7qT-7TZT4oA1"
      },
      "source": [
        "#Utils\n"
      ]
    },
    {
      "cell_type": "markdown",
      "metadata": {
        "id": "jaxK9MWgom2d"
      },
      "source": [
        "##Email"
      ]
    },
    {
      "cell_type": "code",
      "metadata": {
        "id": "7OHXxocaogjG"
      },
      "source": [
        "def sendemail(from_addr, to_addr_list,  subject, message):\n",
        "    # Create the body of the message (a plain-text and an HTML version).\n",
        "    html_finaly = transform(message)\n",
        "\n",
        "    email_message = Mail(\n",
        "        from_email=from_addr,\n",
        "        to_emails=to_addr_list,\n",
        "        subject=subject,\n",
        "        html_content=html_finaly\n",
        "    )\n",
        "    try:\n",
        "\n",
        "        sg = SendGridAPIClient(SEND_GRID)\n",
        "        response = sg.send(email_message)\n",
        "        print(response.status_code)\n",
        "        print(response.body)\n",
        "        print(response.headers)\n",
        "    except Exception as error:\n",
        "        print(error)"
      ],
      "execution_count": 8,
      "outputs": []
    },
    {
      "cell_type": "markdown",
      "metadata": {
        "id": "Ev8wZPcfouv9"
      },
      "source": [
        "##Wrap text"
      ]
    },
    {
      "cell_type": "code",
      "metadata": {
        "id": "DuC_xZh4gcC_"
      },
      "source": [
        "def wrap_text(text, width, font):\n",
        "    text_lines = []\n",
        "    text_line = []\n",
        "    text = text.replace('\\n', ' [br] ')\n",
        "    words = text.split()\n",
        "    font_size = font.getsize(text)\n",
        "\n",
        "    for word in words:\n",
        "        if word == '[br]':\n",
        "            text_lines.append(' '.join(text_line))\n",
        "            text_line = []\n",
        "            continue\n",
        "        text_line.append(word)\n",
        "        w, h = font.getsize(' '.join(text_line))\n",
        "        if w > width:\n",
        "            text_line.pop()\n",
        "            text_lines.append(' '.join(text_line))\n",
        "            text_line = [word]\n",
        "\n",
        "    if len(text_line) > 0:\n",
        "        text_lines.append(' '.join(text_line))\n",
        "\n",
        "    return '\\n'.join(text_lines),len(text_lines)"
      ],
      "execution_count": 9,
      "outputs": []
    },
    {
      "cell_type": "markdown",
      "metadata": {
        "id": "P2NzLNfUoymO"
      },
      "source": [
        "##Random char"
      ]
    },
    {
      "cell_type": "code",
      "metadata": {
        "id": "Zc96IDNH9cOE"
      },
      "source": [
        "def random_char(y):\n",
        "    return ''.join(random.choice(string.ascii_letters) for x in range(y))"
      ],
      "execution_count": 10,
      "outputs": []
    },
    {
      "cell_type": "markdown",
      "metadata": {
        "id": "C6UFhq4no4CS"
      },
      "source": [
        "##Create image"
      ]
    },
    {
      "cell_type": "code",
      "metadata": {
        "id": "zqt2z5Ib65jl"
      },
      "source": [
        "def create_img(type_img,text):\n",
        "    image = cv2.imread(f'{drive_directory}model/{type_img}.png')\n",
        "    \n",
        "\n",
        "    # Convert to PIL Image\n",
        "    cv2_im_rgb = cv2.cvtColor(image, cv2.COLOR_BGR2RGB)\n",
        "    pil_im = Image.fromarray(cv2_im_rgb)\n",
        "\n",
        "    draw = ImageDraw.Draw(pil_im)\n",
        "\n",
        "    # use a bitmap font\n",
        "    font = ImageFont.truetype(font='/content/drive/My Drive/action_email_with_image/fonts/arial.ttf', size=11, index=0)\n",
        "\n",
        "    # Draw the text\n",
        "    text,num_lines = wrap_text(text, 255, font)\n",
        "\n",
        "    # Remove blank lines if less than 10 lines\n",
        "    begin_line = 140 if num_lines <=10  else 95\n",
        "\n",
        "    # Add text\n",
        "    draw.text((310, begin_line), text, font=font,fill=(27, 54, 93))\n",
        "\n",
        "    name_file = f'output_{str(random.randrange(1000)).zfill(4)}_{random_char(10)}.png'\n",
        "    # Save the image\n",
        "    cv2_im_processed = cv2.cvtColor(np.array(pil_im), cv2.COLOR_RGB2BGR)\n",
        "    cv2.imwrite(f'{drive_directory}{name_file}', cv2_im_processed)\n",
        "\n",
        "    return name_file\n"
      ],
      "execution_count": 87,
      "outputs": []
    },
    {
      "cell_type": "markdown",
      "metadata": {
        "id": "bk1kjozEpb4G"
      },
      "source": [
        "##Upload image in imgbb"
      ]
    },
    {
      "cell_type": "code",
      "metadata": {
        "id": "RdTlTofPA8jb"
      },
      "source": [
        "def upload_img(name_file):\n",
        "    with open(f'{drive_directory}{name_file}', \"rb\") as file:\n",
        "        url = \"https://api.imgbb.com/1/upload\"\n",
        "        payload = {\n",
        "            \"key\": KEY_IMGBB,\n",
        "            \"image\": base64.b64encode(file.read()),\n",
        "        }\n",
        "        response = requests.post(url, payload)\n",
        "        return (json.loads(response.text.encode('utf8')))"
      ],
      "execution_count": 88,
      "outputs": []
    },
    {
      "cell_type": "markdown",
      "metadata": {
        "id": "zxlgrTIPpxaC"
      },
      "source": [
        "##HTML\n"
      ]
    },
    {
      "cell_type": "code",
      "metadata": {
        "id": "YvUqh1p9p0N_"
      },
      "source": [
        "def build_html(data_json):\n",
        "    html = (\"\"\" \n",
        "    <center>\n",
        "            <table border=\"0\" cellpadding=\"0\" cellspacing=\"0\" width=\"100%\" style=\"border-collapse:collapse;border:0;max-width:600px!important\">\n",
        "                <tr>\n",
        "                    <td style=\"padding-top:9px;padding-left:18px;padding-bottom:9px;padding-right:18px\">\n",
        "                        <table border=\"0\" cellspacing=\"0\" width=\"100%\" style=\"min-width:100%!important;background-color:#e2e2e2;border-collapse:collapse\">\n",
        "                            <tbody>\n",
        "                                <tr>\n",
        "                                    <td valign=\"top\" style=\"padding:18px;color:#ffffff;font-family:Arial, Helvetica, sans-serif;font-size:14px;font-weight:normal;text-align:center;word-break:break-word;line-height:150%\">\n",
        "                                        <div style=\"text-align:center\"><span style=\"color:#db6c2f\"><span style=\"font-size:18px\"><span style=\"font-family:source sans pro,helvetica neue,helvetica,arial,sans-serif\">                                \n",
        "                                        <strong>De: \"\"\" +data_json['name_sent'] + \"\"\"</strong>\n",
        "                                        <br><br>\n",
        "                                        <strong>Para: \"\"\" +data_json['name'] + \"\"\"</strong>\n",
        "                                        </span></span>\n",
        "                                            </span>\n",
        "                                        </div>\n",
        "                                    </td>\n",
        "                                </tr>\n",
        "                            </tbody>\n",
        "                        </table>\n",
        "                    </td>\n",
        "                </tr>\n",
        "                <tr>\n",
        "                    <td valign=\"top\" style=\"padding-top:9px\">\n",
        "                        <table align=\"left\" border=\"0\" cellpadding=\"0\" cellspacing=\"0\" style=\"max-width:100%;min-width:100%;border-collapse:collapse\" width=\"100%\">\n",
        "                            <tbody>\n",
        "                                <tr>\n",
        "                                    <td valign=\"top\" style=\"padding-top:0;padding-right:18px;padding-bottom:9px;padding-left:18px;word-break:break-word;color:#202020;font-family:Arial;font-size:16px;line-height:150%;text-align:left\">\n",
        "                                        <div style=\"text-align:center\"><span style=\"color:#808080\"><span style=\"font-family:arial\"><span style=\"font-size:14px\">O time de Advanced Analytics informa que</span><br>\n",
        "                                            <span style=\"font-size:15px\"><strong>VOCÊ RECEBEU UM CARD DA GENTILEZA</strong></span></span>\n",
        "                                            </span>\n",
        "                                        </div>\n",
        "\n",
        "                                    </td>\n",
        "                                </tr>\n",
        "                            </tbody>\n",
        "                        </table>\n",
        "                    </td>\n",
        "                </tr>\n",
        "                <tr>\n",
        "                    <td style=\"min-width:100%;padding:36px 18px 20px\">\n",
        "                        <table border=\"0\" cellpadding=\"0\" cellspacing=\"0\" width=\"100%\" style=\"min-width:100%;border-collapse:collapse\">\n",
        "                            <tbody>\n",
        "                                <tr>\n",
        "                                    <td>\n",
        "                                        <center>\n",
        "                                            <img src=\"\"\" + data_json['card_url']+ \"\"\" alt=\"\"\" + data_json['card_url']+ \"\"\" width=100% height=100%>\n",
        "                                        </center>\n",
        "                                    </td>\n",
        "                                </tr>\n",
        "                            </tbody>\n",
        "                        </table>\n",
        "                    </td>\n",
        "                </tr>\n",
        "                <tr>\n",
        "                    <td style=\"min-width:100%;padding:36px 18px 20px\">\n",
        "                        <table border=\"0\" cellpadding=\"0\" cellspacing=\"0\" width=\"100%\" style=\"min-width:100%;border-top:2px solid #e4e4e4;border-collapse:collapse\">\n",
        "                            <tbody>\n",
        "                                <tr>\n",
        "                                    <td>\n",
        "                                        <span></span>\n",
        "                                    </td>\n",
        "                                </tr>\n",
        "                            </tbody>\n",
        "                        </table>\n",
        "                    </td>\n",
        "                </tr>\n",
        "                <tr>\n",
        "                    <td valign=\"top\" style=\"padding-top:9px\">\n",
        "                        <table align=\"left\" border=\"0\" cellpadding=\"0\" cellspacing=\"0\" style=\"max-width:100%;min-width:100%;border-collapse:collapse\" width=\"100%\">\n",
        "                            <tbody>\n",
        "                                <tr>\n",
        "                                    <td valign=\"top\" style=\"padding-top:0;padding-right:18px;padding-bottom:9px;padding-left:18px;word-break:break-word;color:#202020;font-family:Helvetica;font-size:16px;line-height:150%;text-align:left\">\n",
        "                                        <div style=\"text-align:center\"><span style=\"font-size:14px\"><span style=\"color:#696969\"><em><span style=\"font-family:source sans pro,helvetica neue,helvetica,arial,sans-serif\">Muito bom ser reconhecido, né?&nbsp;</span></em>\n",
        "                                            </span>\n",
        "                                            </span><br>\n",
        "                                            <span style=\"font-size:14px\"><span style=\"color:#696969\"><em><span style=\"font-family:source sans pro,helvetica neue,helvetica,arial,sans-serif\"><strong>Não esqueça de enviar outro para alguém que você também admira:</strong></span></em>\n",
        "                                            </span>\n",
        "                                            </span>\n",
        "                                        </div>\n",
        "                                    </td>\n",
        "                                </tr>\n",
        "                            </tbody>\n",
        "                        </table>\n",
        "                    </td>\n",
        "                </tr>\n",
        "                <tr>\n",
        "                    <td style=\"padding-top:0;padding-right:18px;padding-bottom:18px;padding-left:18px\" valign=\"top\" align=\"center\">\n",
        "                        <table border=\"0\" cellpadding=\"0\" cellspacing=\"0\" style=\"border-collapse:separate!important;border:2px solid #1b365d;border-radius:2px\">\n",
        "                            <tbody>\n",
        "                                <tr>\n",
        "                                    <td align=\"center\" valign=\"middle\" style=\"font-family:Arial;font-size:14px;padding:10px\">\n",
        "                                        <a title=\"DISPARE ELOGIOS AGORA!\" href=\"https://docs.google.com/forms/d/e/1FAIpQLSeh3G_V0G31YopLV69YJ8XOyTSQ7NKpcpPJ_GVYZNZ-ciX91w/viewform?utm_source=SulAm%C3%A9rica+Sa%C3%BAde&amp;utm_campaign=3ebdcde4f7-EMAIL_CAMPAIGN_2020_01_09_02_13_COPY_01&amp;utm_medium=email&amp;utm_term=0_c84c650c95-3ebdcde4f7-\"\n",
        "                                            style=\"font-weight:bold;letter-spacing:2px;line-height:100%;text-align:center;text-decoration:none;color:#1b365d;display:block\" target=\"_blank\" data-saferedirecturl=\"https://www.google.com/url?q=https://docs.google.com/forms/d/e/1FAIpQLSeh3G_V0G31YopLV69YJ8XOyTSQ7NKpcpPJ_GVYZNZ-ciX91w/viewform?utm_source%3DSulAm%25C3%25A9rica%2BSa%25C3%25BAde%26utm_campaign%3D3ebdcde4f7-EMAIL_CAMPAIGN_2020_01_09_02_13_COPY_01%26utm_medium%3Demail%26utm_term%3D0_c84c650c95-3ebdcde4f7-&amp;source=gmail&amp;ust=1601389843029000&amp;usg=AFQjCNGIP4P3Syu8FMnqUTK-E7QjY9SQaQ\">DISPARE ELOGIOS AGORA!</a>\n",
        "                                    </td>\n",
        "                                </tr>\n",
        "                            </tbody>\n",
        "                        </table>\n",
        "                    </td>\n",
        "                </tr>\n",
        "                <tr>\n",
        "                    <td valign=\"top\" style=\"padding-top:9px\">\n",
        "                        <table align=\"left\" border=\"0\" cellpadding=\"0\" cellspacing=\"0\" style=\"max-width:100%;min-width:100%;border-collapse:collapse\" width=\"100%\">\n",
        "                            <tbody>\n",
        "                                <tr>\n",
        "                                    <td valign=\"top\" style=\"padding-top:0;padding-right:18px;padding-bottom:9px;padding-left:18px;word-break:break-word;color:#202020;font-family:Helvetica;font-size:16px;line-height:150%;text-align:left\">\n",
        "                                        <div style=\"text-align:center\"><span style=\"font-size:14px\"><font color=\"#696969\" face=\"source sans pro, helvetica neue, helvetica, arial, sans-serif\"><em>Acreditamos no poder dos elogios!&nbsp;</em><img goomoji=\"1f44a\" data-goomoji=\"1f44a\" style=\"margin:0 0.2ex;vertical-align:middle;max-height:24px\" alt=\"👊\" src=\"https://mail.google.com/mail/e/1f44a\" data-image-whitelisted=\"\" class=\"CToWUd\">&nbsp;</font></span></div>\n",
        "                                    </td>\n",
        "                                </tr>\n",
        "                            </tbody>\n",
        "                        </table>\n",
        "                    </td>\n",
        "                </tr>\n",
        "                <tr>\n",
        "                    <td valign=\"top\" id=\"m_-1533314200010094230m_-1809350913193624200m_966440381877846507templateFooter\" style=\"background:#1b365d none no-repeat center/cover;background-color:#1b365d;background-image:none;background-repeat:no-repeat;background-position:center;background-size:cover;border-top:0;border-bottom:0;padding-top:9px;padding-bottom:9px\">\n",
        "                        <table border=\"0\" cellpadding=\"0\" cellspacing=\"0\" width=\"100%\" style=\"min-width:100%;border-collapse:collapse\">\n",
        "                            <tbody>\n",
        "                                <tr>\n",
        "                                    <td valign=\"top\" style=\"padding-top:9px\">\n",
        "                                        <table align=\"left\" border=\"0\" cellpadding=\"0\" cellspacing=\"0\" style=\"max-width:100%;min-width:100%;border-collapse:collapse\" width=\"100%\">\n",
        "                                            <tbody>\n",
        "                                                <tr>\n",
        "                                                    <td valign=\"top\" style=\"padding:0px 18px 9px;color:#050202;word-break:break-word;font-family:Helvetica;font-size:12px;line-height:150%;text-align:center\">\n",
        "                                                        <a href=\"https://sulamerica.us20.list-manage.com/track/click?u=352dc06c43b28c8dfc93cf81e&amp;id=b789fbfa3d&amp;e=3c71f99bae&amp;utm_source=SulAm%C3%A9rica+Sa%C3%BAde&amp;utm_campaign=3ebdcde4f7-EMAIL_CAMPAIGN_2020_01_09_02_13_COPY_01&amp;utm_medium=email&amp;utm_term=0_c84c650c95-3ebdcde4f7-\"\n",
        "                                                            style=\"color:#656565;font-weight:normal;text-decoration:underline\" target=\"_blank\" data-saferedirecturl=\"https://www.google.com/url?q=https://sulamerica.us20.list-manage.com/track/click?u%3D352dc06c43b28c8dfc93cf81e%26id%3Db789fbfa3d%26e%3D3c71f99bae%26utm_source%3DSulAm%25C3%25A9rica%2BSa%25C3%25BAde%26utm_campaign%3D3ebdcde4f7-EMAIL_CAMPAIGN_2020_01_09_02_13_COPY_01%26utm_medium%3Demail%26utm_term%3D0_c84c650c95-3ebdcde4f7-&amp;source=gmail&amp;ust=1601389843029000&amp;usg=AFQjCNFjzengFkRZUobMElrNcGlJM6uwTA\"><span style=\"color:#dc6b2f\"><strong>Acesse o portal do #SULANALYTICSTEAM</strong></span></a><br>\n",
        "                                                        <br>\n",
        "                                                        <span style=\"color:#ffffff\"><strong>Ajude o Office a melhorar a comunicação dos times de&nbsp; Analytics!</strong><br>\n",
        "        Envie suas sugestões e ideias clicando&nbsp;</span><a href=\"mailto:data.anaytics@sulamerica.com.br\" style=\"color:#656565;font-weight:normal;text-decoration:underline\" target=\"_blank\"><span style=\"color:#ffffff\">AQUI!</span></a>\n",
        "                                                    </td>\n",
        "                                                </tr>\n",
        "                                            </tbody>\n",
        "                                        </table>\n",
        "                                    </td>\n",
        "                                </tr>\n",
        "                            </tbody>\n",
        "                        </table>\n",
        "                        <table border=\"0\" cellpadding=\"0\" cellspacing=\"0\" width=\"100%\" style=\"min-width:100%;border-collapse:collapse\">\n",
        "                            <tbody>\n",
        "                                <tr>\n",
        "                                    <td valign=\"top\" style=\"padding:9px\">\n",
        "                                        <table align=\"left\" width=\"100%\" border=\"0\" cellpadding=\"0\" cellspacing=\"0\" style=\"min-width:100%;border-collapse:collapse\">\n",
        "                                            <tbody>\n",
        "                                                <tr>\n",
        "                                                    <td valign=\"top\" style=\"padding-right:9px;padding-left:9px;padding-top:0;padding-bottom:0;text-align:center\">\n",
        "                                                        <img align=\"center\" alt=\"\" src=\"https://ci5.googleusercontent.com/proxy/rQL63l4tQ8PKCp19Oi8m33UfOOm1Ieqeo6Pgu3O43Y2QfTCXPhQtnfg-pkxtAgJ9a1FBE5H1wAwA1ICDf_LwmJ-QVu_O53vZjyceo2R8K9G_aLdi3OJU3iBV3RX4opD5kOixIP1gMilz-XJoUl0hwGivjDT7HQ=s0-d-e1-ft#https://mcusercontent.com/352dc06c43b28c8dfc93cf81e/images/5ebbf1d1-fd7c-4a25-9b53-b504657cbec4.png\"\n",
        "                                                            width=\"439.92\" style=\"max-width:1700px;padding-bottom:0;display:inline!important;vertical-align:bottom;border:0;height:auto;outline:none;text-decoration:none\" class=\"CToWUd\">\n",
        "                                                    </td>\n",
        "                                                </tr>\n",
        "                                            </tbody>\n",
        "                                        </table>\n",
        "                                    </td>\n",
        "                                </tr>\n",
        "                            </tbody>\n",
        "                        </table>\n",
        "                    </td>\n",
        "                </tr>\n",
        "            </table>\n",
        "        </center>\n",
        "     \"\"\")\n",
        "    return html"
      ],
      "execution_count": 13,
      "outputs": []
    },
    {
      "cell_type": "markdown",
      "metadata": {
        "id": "cG7xJNIFEmdl"
      },
      "source": [
        "#Data\n",
        "\n"
      ]
    },
    {
      "cell_type": "code",
      "metadata": {
        "id": "YhFHAQJBEozN"
      },
      "source": [
        "data = gc.open('Ação_Card_da_Gentileza_On-line (respostas)').sheet1"
      ],
      "execution_count": 89,
      "outputs": []
    },
    {
      "cell_type": "code",
      "metadata": {
        "id": "-PDXGmRIFDCC",
        "outputId": "2440c710-d703-4b5c-cd22-43b5b0c0dd33",
        "colab": {
          "base_uri": "https://localhost:8080/"
        }
      },
      "source": [
        "df = pd.DataFrame(data.get_all_records())\n",
        "df.rename(columns={'Carimbo de data/hora': 'datetime',\n",
        "    '1 - Insira o NOME COMPLETO do PARCEIRO que você GOSTARIA DE ELOGIAR (DESTINATÁRIO):': 'name',\n",
        "    '2 - Deixe aqui A MENSAGEM para o seu colega de trabalho (limite até 570 caracteres)': 'text',\n",
        "    '3 - Escolha algum dos CARDS abaixo, para enviar para sua(seu) parceira(o):':'card'},inplace=True)\n",
        "df=df[df[\"ENVIADO [y/n]\"].str.lower()!='y']\n",
        "df_error = df\n",
        "df.shape"
      ],
      "execution_count": 90,
      "outputs": [
        {
          "output_type": "execute_result",
          "data": {
            "text/plain": [
              "(4, 11)"
            ]
          },
          "metadata": {
            "tags": []
          },
          "execution_count": 90
        }
      ]
    },
    {
      "cell_type": "code",
      "metadata": {
        "id": "5mssNB7aUztk",
        "outputId": "19f28597-09f2-4c19-ba12-994b0a6d8f6b",
        "colab": {
          "base_uri": "https://localhost:8080/",
          "height": 343
        }
      },
      "source": [
        "df['num']=df['text'].str.len()\n",
        "df.head(20)"
      ],
      "execution_count": 91,
      "outputs": [
        {
          "output_type": "execute_result",
          "data": {
            "text/html": [
              "<div>\n",
              "<style scoped>\n",
              "    .dataframe tbody tr th:only-of-type {\n",
              "        vertical-align: middle;\n",
              "    }\n",
              "\n",
              "    .dataframe tbody tr th {\n",
              "        vertical-align: top;\n",
              "    }\n",
              "\n",
              "    .dataframe thead th {\n",
              "        text-align: right;\n",
              "    }\n",
              "</style>\n",
              "<table border=\"1\" class=\"dataframe\">\n",
              "  <thead>\n",
              "    <tr style=\"text-align: right;\">\n",
              "      <th></th>\n",
              "      <th>datetime</th>\n",
              "      <th>Endereço de e-mail</th>\n",
              "      <th>By</th>\n",
              "      <th>name</th>\n",
              "      <th>text</th>\n",
              "      <th>card</th>\n",
              "      <th>Quais sugestões daria para que essa ação fosse aperfeiçoada no futuro?</th>\n",
              "      <th>E para finalizar, de 1 a 5, o quanto você acha importante que essa ação seja instalada dentro do time?</th>\n",
              "      <th>Caso queira registrar mais algum ponto, sinta-se à vontade!</th>\n",
              "      <th>Insira o seu NOME COMPLETO (REMETENTE):</th>\n",
              "      <th>ENVIADO [y/n]</th>\n",
              "      <th>num</th>\n",
              "    </tr>\n",
              "  </thead>\n",
              "  <tbody>\n",
              "    <tr>\n",
              "      <th>200</th>\n",
              "      <td>29/09/2020 15:11:45</td>\n",
              "      <td>alinebatista.mjv@sulamerica.com.br</td>\n",
              "      <td>Aline Batista</td>\n",
              "      <td>Denise Santos</td>\n",
              "      <td>Denise, você chegou no momento de furação! heh...</td>\n",
              "      <td>GUERREIRA | Analytics Lovers!</td>\n",
              "      <td></td>\n",
              "      <td>5</td>\n",
              "      <td></td>\n",
              "      <td></td>\n",
              "      <td></td>\n",
              "      <td>124</td>\n",
              "    </tr>\n",
              "    <tr>\n",
              "      <th>201</th>\n",
              "      <td>30/09/2020 10:35:07</td>\n",
              "      <td>barbaralamego.keyrus@sulamerica.com.br</td>\n",
              "      <td>Barbara Lamego</td>\n",
              "      <td>Renan Ferreira Lima</td>\n",
              "      <td>É um prazer trabalhar com você, sua dedicação ...</td>\n",
              "      <td>TEAM | Star JuntEs!</td>\n",
              "      <td></td>\n",
              "      <td>5</td>\n",
              "      <td></td>\n",
              "      <td></td>\n",
              "      <td></td>\n",
              "      <td>59</td>\n",
              "    </tr>\n",
              "    <tr>\n",
              "      <th>202</th>\n",
              "      <td>30/09/2020 11:47:30</td>\n",
              "      <td>juliana.silva@sulamerica.com.br</td>\n",
              "      <td>Juliana Silva</td>\n",
              "      <td>Bianca Paiva</td>\n",
              "      <td>Bianca!!! Você é maravilhosa, coração enorme, ...</td>\n",
              "      <td>TEAM | Star JuntEs!</td>\n",
              "      <td></td>\n",
              "      <td>5</td>\n",
              "      <td></td>\n",
              "      <td></td>\n",
              "      <td></td>\n",
              "      <td>318</td>\n",
              "    </tr>\n",
              "    <tr>\n",
              "      <th>203</th>\n",
              "      <td>30/09/2020 12:08:58</td>\n",
              "      <td>juliana.silva@sulamerica.com.br</td>\n",
              "      <td>Juliana Silva</td>\n",
              "      <td>Queziane Marques</td>\n",
              "      <td>Quezinha, querida!!! Parabéns pelo seu excelen...</td>\n",
              "      <td>GUERREIRA | Analytics ON!</td>\n",
              "      <td>Opções de carinhas nas mensagens rsrs</td>\n",
              "      <td>5</td>\n",
              "      <td></td>\n",
              "      <td></td>\n",
              "      <td></td>\n",
              "      <td>289</td>\n",
              "    </tr>\n",
              "  </tbody>\n",
              "</table>\n",
              "</div>"
            ],
            "text/plain": [
              "                datetime  ...  num\n",
              "200  29/09/2020 15:11:45  ...  124\n",
              "201  30/09/2020 10:35:07  ...   59\n",
              "202  30/09/2020 11:47:30  ...  318\n",
              "203  30/09/2020 12:08:58  ...  289\n",
              "\n",
              "[4 rows x 12 columns]"
            ]
          },
          "metadata": {
            "tags": []
          },
          "execution_count": 91
        }
      ]
    },
    {
      "cell_type": "code",
      "metadata": {
        "id": "2YSzZRjUfaDE",
        "outputId": "03594357-b018-4c92-ad02-e0ee847ae892",
        "colab": {
          "base_uri": "https://localhost:8080/",
          "height": 343
        }
      },
      "source": [
        "df=df[df['text'].str.len()<=600]\n",
        "df.head()"
      ],
      "execution_count": 92,
      "outputs": [
        {
          "output_type": "execute_result",
          "data": {
            "text/html": [
              "<div>\n",
              "<style scoped>\n",
              "    .dataframe tbody tr th:only-of-type {\n",
              "        vertical-align: middle;\n",
              "    }\n",
              "\n",
              "    .dataframe tbody tr th {\n",
              "        vertical-align: top;\n",
              "    }\n",
              "\n",
              "    .dataframe thead th {\n",
              "        text-align: right;\n",
              "    }\n",
              "</style>\n",
              "<table border=\"1\" class=\"dataframe\">\n",
              "  <thead>\n",
              "    <tr style=\"text-align: right;\">\n",
              "      <th></th>\n",
              "      <th>datetime</th>\n",
              "      <th>Endereço de e-mail</th>\n",
              "      <th>By</th>\n",
              "      <th>name</th>\n",
              "      <th>text</th>\n",
              "      <th>card</th>\n",
              "      <th>Quais sugestões daria para que essa ação fosse aperfeiçoada no futuro?</th>\n",
              "      <th>E para finalizar, de 1 a 5, o quanto você acha importante que essa ação seja instalada dentro do time?</th>\n",
              "      <th>Caso queira registrar mais algum ponto, sinta-se à vontade!</th>\n",
              "      <th>Insira o seu NOME COMPLETO (REMETENTE):</th>\n",
              "      <th>ENVIADO [y/n]</th>\n",
              "      <th>num</th>\n",
              "    </tr>\n",
              "  </thead>\n",
              "  <tbody>\n",
              "    <tr>\n",
              "      <th>200</th>\n",
              "      <td>29/09/2020 15:11:45</td>\n",
              "      <td>alinebatista.mjv@sulamerica.com.br</td>\n",
              "      <td>Aline Batista</td>\n",
              "      <td>Denise Santos</td>\n",
              "      <td>Denise, você chegou no momento de furação! heh...</td>\n",
              "      <td>GUERREIRA | Analytics Lovers!</td>\n",
              "      <td></td>\n",
              "      <td>5</td>\n",
              "      <td></td>\n",
              "      <td></td>\n",
              "      <td></td>\n",
              "      <td>124</td>\n",
              "    </tr>\n",
              "    <tr>\n",
              "      <th>201</th>\n",
              "      <td>30/09/2020 10:35:07</td>\n",
              "      <td>barbaralamego.keyrus@sulamerica.com.br</td>\n",
              "      <td>Barbara Lamego</td>\n",
              "      <td>Renan Ferreira Lima</td>\n",
              "      <td>É um prazer trabalhar com você, sua dedicação ...</td>\n",
              "      <td>TEAM | Star JuntEs!</td>\n",
              "      <td></td>\n",
              "      <td>5</td>\n",
              "      <td></td>\n",
              "      <td></td>\n",
              "      <td></td>\n",
              "      <td>59</td>\n",
              "    </tr>\n",
              "    <tr>\n",
              "      <th>202</th>\n",
              "      <td>30/09/2020 11:47:30</td>\n",
              "      <td>juliana.silva@sulamerica.com.br</td>\n",
              "      <td>Juliana Silva</td>\n",
              "      <td>Bianca Paiva</td>\n",
              "      <td>Bianca!!! Você é maravilhosa, coração enorme, ...</td>\n",
              "      <td>TEAM | Star JuntEs!</td>\n",
              "      <td></td>\n",
              "      <td>5</td>\n",
              "      <td></td>\n",
              "      <td></td>\n",
              "      <td></td>\n",
              "      <td>318</td>\n",
              "    </tr>\n",
              "    <tr>\n",
              "      <th>203</th>\n",
              "      <td>30/09/2020 12:08:58</td>\n",
              "      <td>juliana.silva@sulamerica.com.br</td>\n",
              "      <td>Juliana Silva</td>\n",
              "      <td>Queziane Marques</td>\n",
              "      <td>Quezinha, querida!!! Parabéns pelo seu excelen...</td>\n",
              "      <td>GUERREIRA | Analytics ON!</td>\n",
              "      <td>Opções de carinhas nas mensagens rsrs</td>\n",
              "      <td>5</td>\n",
              "      <td></td>\n",
              "      <td></td>\n",
              "      <td></td>\n",
              "      <td>289</td>\n",
              "    </tr>\n",
              "  </tbody>\n",
              "</table>\n",
              "</div>"
            ],
            "text/plain": [
              "                datetime  ...  num\n",
              "200  29/09/2020 15:11:45  ...  124\n",
              "201  30/09/2020 10:35:07  ...   59\n",
              "202  30/09/2020 11:47:30  ...  318\n",
              "203  30/09/2020 12:08:58  ...  289\n",
              "\n",
              "[4 rows x 12 columns]"
            ]
          },
          "metadata": {
            "tags": []
          },
          "execution_count": 92
        }
      ]
    },
    {
      "cell_type": "code",
      "metadata": {
        "id": "KbjTb96_PHQM",
        "outputId": "321537fc-415d-45e7-f6a9-a731c8169796",
        "colab": {
          "base_uri": "https://localhost:8080/"
        }
      },
      "source": [
        "df.shape"
      ],
      "execution_count": 93,
      "outputs": [
        {
          "output_type": "execute_result",
          "data": {
            "text/plain": [
              "(4, 12)"
            ]
          },
          "metadata": {
            "tags": []
          },
          "execution_count": 93
        }
      ]
    },
    {
      "cell_type": "code",
      "metadata": {
        "id": "9m9PvuDaHgmd",
        "outputId": "80f028ee-86ca-4e8d-c6d0-0ae7113d1c0e",
        "colab": {
          "base_uri": "https://localhost:8080/",
          "height": 173
        }
      },
      "source": [
        "df = df[\n",
        "   [    'datetime',    'By',   'name',   'text',    'card'    ]\n",
        "   ]\n",
        "df['card_file'] = df['card'].str.replace('|', '').str.replace('!', '').str.replace('  ', ' ').str.replace(' ', '_').str.lower()\n",
        "df['text'] = df['text'].str.replace('\\n', ' ')\n",
        "df['name'] = df['name'].str.split('(').str[0]\n",
        "df=df[df['By'].str.len()>0]\n",
        "display(df.head())"
      ],
      "execution_count": 94,
      "outputs": [
        {
          "output_type": "display_data",
          "data": {
            "text/html": [
              "<div>\n",
              "<style scoped>\n",
              "    .dataframe tbody tr th:only-of-type {\n",
              "        vertical-align: middle;\n",
              "    }\n",
              "\n",
              "    .dataframe tbody tr th {\n",
              "        vertical-align: top;\n",
              "    }\n",
              "\n",
              "    .dataframe thead th {\n",
              "        text-align: right;\n",
              "    }\n",
              "</style>\n",
              "<table border=\"1\" class=\"dataframe\">\n",
              "  <thead>\n",
              "    <tr style=\"text-align: right;\">\n",
              "      <th></th>\n",
              "      <th>datetime</th>\n",
              "      <th>By</th>\n",
              "      <th>name</th>\n",
              "      <th>text</th>\n",
              "      <th>card</th>\n",
              "      <th>card_file</th>\n",
              "    </tr>\n",
              "  </thead>\n",
              "  <tbody>\n",
              "    <tr>\n",
              "      <th>200</th>\n",
              "      <td>29/09/2020 15:11:45</td>\n",
              "      <td>Aline Batista</td>\n",
              "      <td>Denise Santos</td>\n",
              "      <td>Denise, você chegou no momento de furação! heh...</td>\n",
              "      <td>GUERREIRA | Analytics Lovers!</td>\n",
              "      <td>guerreira_analytics_lovers</td>\n",
              "    </tr>\n",
              "    <tr>\n",
              "      <th>201</th>\n",
              "      <td>30/09/2020 10:35:07</td>\n",
              "      <td>Barbara Lamego</td>\n",
              "      <td>Renan Ferreira Lima</td>\n",
              "      <td>É um prazer trabalhar com você, sua dedicação ...</td>\n",
              "      <td>TEAM | Star JuntEs!</td>\n",
              "      <td>team_star_juntes</td>\n",
              "    </tr>\n",
              "    <tr>\n",
              "      <th>202</th>\n",
              "      <td>30/09/2020 11:47:30</td>\n",
              "      <td>Juliana Silva</td>\n",
              "      <td>Bianca Paiva</td>\n",
              "      <td>Bianca!!! Você é maravilhosa, coração enorme, ...</td>\n",
              "      <td>TEAM | Star JuntEs!</td>\n",
              "      <td>team_star_juntes</td>\n",
              "    </tr>\n",
              "    <tr>\n",
              "      <th>203</th>\n",
              "      <td>30/09/2020 12:08:58</td>\n",
              "      <td>Juliana Silva</td>\n",
              "      <td>Queziane Marques</td>\n",
              "      <td>Quezinha, querida!!! Parabéns pelo seu excelen...</td>\n",
              "      <td>GUERREIRA | Analytics ON!</td>\n",
              "      <td>guerreira_analytics_on</td>\n",
              "    </tr>\n",
              "  </tbody>\n",
              "</table>\n",
              "</div>"
            ],
            "text/plain": [
              "                datetime  ...                   card_file\n",
              "200  29/09/2020 15:11:45  ...  guerreira_analytics_lovers\n",
              "201  30/09/2020 10:35:07  ...            team_star_juntes\n",
              "202  30/09/2020 11:47:30  ...            team_star_juntes\n",
              "203  30/09/2020 12:08:58  ...      guerreira_analytics_on\n",
              "\n",
              "[4 rows x 6 columns]"
            ]
          },
          "metadata": {
            "tags": []
          }
        }
      ]
    },
    {
      "cell_type": "code",
      "metadata": {
        "id": "Y33-F4AXFhGb",
        "outputId": "b26f2c60-58f6-4ba7-847b-d916066d1e27",
        "colab": {
          "base_uri": "https://localhost:8080/"
        }
      },
      "source": [
        "df['text'].str.len().describe()"
      ],
      "execution_count": 95,
      "outputs": [
        {
          "output_type": "execute_result",
          "data": {
            "text/plain": [
              "count      4.000000\n",
              "mean     197.500000\n",
              "std      125.800106\n",
              "min       59.000000\n",
              "25%      107.750000\n",
              "50%      206.500000\n",
              "75%      296.250000\n",
              "max      318.000000\n",
              "Name: text, dtype: float64"
            ]
          },
          "metadata": {
            "tags": []
          },
          "execution_count": 95
        }
      ]
    },
    {
      "cell_type": "markdown",
      "metadata": {
        "id": "RbTsoAMxrP0P"
      },
      "source": [
        "#Send"
      ]
    },
    {
      "cell_type": "code",
      "metadata": {
        "id": "a37Hik9r3Sjp",
        "outputId": "33caeb56-fe20-44db-a858-7e080725d3df",
        "colab": {
          "base_uri": "https://localhost:8080/"
        }
      },
      "source": [
        "df_edit = df\n",
        "emails_list = [        \n",
        "        'brunonascimento.leega@sulamerica.com.br',\n",
        "        'advanced.analytics@sulamerica.com.br',\n",
        "        # 'alinebatista.mjv@sulamerica.com.br'\n",
        "    ]\n",
        "for index, row in df_edit.iterrows():    \n",
        "    text = str(row['text']).replace('Ass','\\nAss')\n",
        "    response_img = upload_img(create_img(row['card_file'],text))\n",
        "    data_json ={\n",
        "        'name':row['name'],   \n",
        "        'name_sent':row['By'],     \n",
        "        'card_url':response_img['data']['url']\n",
        "    }\n",
        "    mensage = build_html(data_json)\n",
        "    print(data_json)\n",
        "    sendemail(\n",
        "        from_addr='bruno.nascimento@leega.com.br',\n",
        "        to_addr_list=list(dict.fromkeys(emails_list)),\n",
        "        subject=(f'{row[\"name\"]} Você recebeu um CARD DA GENTILEZA On-line! 📢🌟'),\n",
        "        message=mensage\n",
        "        )\n",
        "    \n"
      ],
      "execution_count": 96,
      "outputs": [
        {
          "output_type": "stream",
          "text": [
            "{'name': 'Denise Santos', 'name_sent': 'Aline Batista', 'card_url': 'https://i.ibb.co/S6vMvc9/0d6b991ace6b.png'}\n",
            "202\n",
            "b''\n",
            "Server: nginx\n",
            "Date: Wed, 07 Oct 2020 14:09:34 GMT\n",
            "Content-Length: 0\n",
            "Connection: close\n",
            "X-Message-Id: H-9wK5JcT5aF2jHZQ5O_qQ\n",
            "Access-Control-Allow-Origin: https://sendgrid.api-docs.io\n",
            "Access-Control-Allow-Methods: POST\n",
            "Access-Control-Allow-Headers: Authorization, Content-Type, On-behalf-of, x-sg-elas-acl\n",
            "Access-Control-Max-Age: 600\n",
            "X-No-CORS-Reason: https://sendgrid.com/docs/Classroom/Basics/API/cors.html\n",
            "\n",
            "\n",
            "{'name': 'Renan Ferreira Lima', 'name_sent': 'Barbara Lamego', 'card_url': 'https://i.ibb.co/SKX3Fzp/331379b5d6d1.png'}\n",
            "202\n",
            "b''\n",
            "Server: nginx\n",
            "Date: Wed, 07 Oct 2020 14:09:35 GMT\n",
            "Content-Length: 0\n",
            "Connection: close\n",
            "X-Message-Id: 5O4mFDN6SfmwwW2HMF_DGA\n",
            "Access-Control-Allow-Origin: https://sendgrid.api-docs.io\n",
            "Access-Control-Allow-Methods: POST\n",
            "Access-Control-Allow-Headers: Authorization, Content-Type, On-behalf-of, x-sg-elas-acl\n",
            "Access-Control-Max-Age: 600\n",
            "X-No-CORS-Reason: https://sendgrid.com/docs/Classroom/Basics/API/cors.html\n",
            "\n",
            "\n",
            "{'name': 'Bianca Paiva', 'name_sent': 'Juliana Silva', 'card_url': 'https://i.ibb.co/V9X6Njx/2dc7da666f4c.png'}\n",
            "202\n",
            "b''\n",
            "Server: nginx\n",
            "Date: Wed, 07 Oct 2020 14:09:35 GMT\n",
            "Content-Length: 0\n",
            "Connection: close\n",
            "X-Message-Id: nbcsE_UOQHinRer2vYOIDQ\n",
            "Access-Control-Allow-Origin: https://sendgrid.api-docs.io\n",
            "Access-Control-Allow-Methods: POST\n",
            "Access-Control-Allow-Headers: Authorization, Content-Type, On-behalf-of, x-sg-elas-acl\n",
            "Access-Control-Max-Age: 600\n",
            "X-No-CORS-Reason: https://sendgrid.com/docs/Classroom/Basics/API/cors.html\n",
            "\n",
            "\n",
            "{'name': 'Queziane Marques', 'name_sent': 'Juliana Silva', 'card_url': 'https://i.ibb.co/GPTPQKS/9dc1cd52af90.png'}\n",
            "202\n",
            "b''\n",
            "Server: nginx\n",
            "Date: Wed, 07 Oct 2020 14:09:36 GMT\n",
            "Content-Length: 0\n",
            "Connection: close\n",
            "X-Message-Id: BGv2Clg7TbahvY7HmWAWGA\n",
            "Access-Control-Allow-Origin: https://sendgrid.api-docs.io\n",
            "Access-Control-Allow-Methods: POST\n",
            "Access-Control-Allow-Headers: Authorization, Content-Type, On-behalf-of, x-sg-elas-acl\n",
            "Access-Control-Max-Age: 600\n",
            "X-No-CORS-Reason: https://sendgrid.com/docs/Classroom/Basics/API/cors.html\n",
            "\n",
            "\n"
          ],
          "name": "stdout"
        }
      ]
    },
    {
      "cell_type": "code",
      "metadata": {
        "id": "aA_pX4mdj95S",
        "outputId": "03fd5390-2a6c-4a99-e9e4-6a0691db07f5",
        "colab": {
          "base_uri": "https://localhost:8080/"
        }
      },
      "source": [
        "print(f'{df_edit.shape[0]} emails were sent.')"
      ],
      "execution_count": 97,
      "outputs": [
        {
          "output_type": "stream",
          "text": [
            "4 emails were sent.\n"
          ],
          "name": "stdout"
        }
      ]
    },
    {
      "cell_type": "markdown",
      "metadata": {
        "id": "L-TbO-NRrH2k"
      },
      "source": [
        "#Error table"
      ]
    },
    {
      "cell_type": "code",
      "metadata": {
        "id": "OZtjxJINcINX",
        "outputId": "8ff3894b-34e3-4391-fff9-97e9981372a6",
        "colab": {
          "base_uri": "https://localhost:8080/",
          "height": 66
        }
      },
      "source": [
        "df_error[(df_error['text'].str.len()>600) | (df_error['By'].str.len()<=0)]"
      ],
      "execution_count": 98,
      "outputs": [
        {
          "output_type": "execute_result",
          "data": {
            "text/html": [
              "<div>\n",
              "<style scoped>\n",
              "    .dataframe tbody tr th:only-of-type {\n",
              "        vertical-align: middle;\n",
              "    }\n",
              "\n",
              "    .dataframe tbody tr th {\n",
              "        vertical-align: top;\n",
              "    }\n",
              "\n",
              "    .dataframe thead th {\n",
              "        text-align: right;\n",
              "    }\n",
              "</style>\n",
              "<table border=\"1\" class=\"dataframe\">\n",
              "  <thead>\n",
              "    <tr style=\"text-align: right;\">\n",
              "      <th></th>\n",
              "      <th>datetime</th>\n",
              "      <th>Endereço de e-mail</th>\n",
              "      <th>By</th>\n",
              "      <th>name</th>\n",
              "      <th>text</th>\n",
              "      <th>card</th>\n",
              "      <th>Quais sugestões daria para que essa ação fosse aperfeiçoada no futuro?</th>\n",
              "      <th>E para finalizar, de 1 a 5, o quanto você acha importante que essa ação seja instalada dentro do time?</th>\n",
              "      <th>Caso queira registrar mais algum ponto, sinta-se à vontade!</th>\n",
              "      <th>Insira o seu NOME COMPLETO (REMETENTE):</th>\n",
              "      <th>ENVIADO [y/n]</th>\n",
              "      <th>num</th>\n",
              "    </tr>\n",
              "  </thead>\n",
              "  <tbody>\n",
              "  </tbody>\n",
              "</table>\n",
              "</div>"
            ],
            "text/plain": [
              "Empty DataFrame\n",
              "Columns: [datetime, Endereço de e-mail, By, name, text, card, Quais sugestões daria para que essa ação fosse aperfeiçoada no futuro?, E para finalizar, de 1 a 5, o quanto você acha importante que essa ação seja instalada dentro do time?, Caso queira registrar mais algum ponto, sinta-se à vontade!, Insira o seu NOME COMPLETO (REMETENTE):, ENVIADO [y/n], num]\n",
              "Index: []"
            ]
          },
          "metadata": {
            "tags": []
          },
          "execution_count": 98
        }
      ]
    },
    {
      "cell_type": "markdown",
      "metadata": {
        "id": "kifC8WDiPcTI"
      },
      "source": [
        "#Clear drive"
      ]
    },
    {
      "cell_type": "code",
      "metadata": {
        "id": "j9DtT9C9N89U",
        "outputId": "e41fb8f9-c54c-4752-b6c6-1c2788dda7ec",
        "colab": {
          "base_uri": "https://localhost:8080/"
        }
      },
      "source": [
        "arr = os.listdir(drive_directory)\n",
        "for to_del in arr:\n",
        "    if to_del.startswith(\"output_\"):\n",
        "        print(f'Remove: {to_del}')\n",
        "        os.remove(f'{drive_directory}{to_del}')"
      ],
      "execution_count": 99,
      "outputs": [
        {
          "output_type": "stream",
          "text": [
            "Remove: output_0135_EQZGSPFjOG.png\n",
            "Remove: output_0229_QqHNzMPAcE.png\n",
            "Remove: output_0019_OGhdRiyQdV.png\n",
            "Remove: output_0318_BtJCeFBDSp.png\n",
            "Remove: output_0431_LieGWoTpRc.png\n",
            "Remove: output_0866_lzqEomPpjL.png\n",
            "Remove: output_0643_qcnhybOMta.png\n"
          ],
          "name": "stdout"
        }
      ]
    }
  ]
}